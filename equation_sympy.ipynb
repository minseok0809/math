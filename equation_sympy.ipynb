{
 "cells": [
  {
   "attachments": {},
   "cell_type": "markdown",
   "metadata": {},
   "source": [
    "## Equation (Sympy)"
   ]
  },
  {
   "cell_type": "code",
   "execution_count": null,
   "metadata": {},
   "outputs": [],
   "source": [
    "import os\n",
    "import math\n",
    "import pandas as pd\n",
    "import numpy as np\n",
    "import dataframe_image\n",
    "import sympy as sy\n",
    "import matplotlib.pyplot as plt\n",
    "import matplotlib.font_manager as fm"
   ]
  },
  {
   "cell_type": "code",
   "execution_count": 21,
   "metadata": {},
   "outputs": [
    {
     "data": {
      "text/plain": [
       "[3]"
      ]
     },
     "execution_count": 21,
     "metadata": {},
     "output_type": "execute_result"
    }
   ],
   "source": [
    "x = sy.Symbol('x')\n",
    "equation = 2 * x - 6\n",
    "sy.solve(equation)"
   ]
  },
  {
   "cell_type": "code",
   "execution_count": 41,
   "metadata": {},
   "outputs": [
    {
     "name": "stdout",
     "output_type": "stream",
     "text": [
      "0.587786664902119\n",
      "0.0676586484738148\n",
      "0.122217632724249\n"
     ]
    }
   ],
   "source": [
    "x = sy.Symbol('x')\n",
    "equation = sy.log(sy.exp(x) - 0.8)\n",
    "exp_01_head = sy.solve(equation)[0]\n",
    "print(exp_01_head)\n",
    "equation = sy.log(sy.exp(x) - 0.07)\n",
    "exp_02_head = sy.solve(equation)[0]\n",
    "print(exp_02_head)\n",
    "equation = sy.log(sy.exp(x) - 0.13)\n",
    "exp_03_head = sy.solve(equation)[0]\n",
    "print(exp_03_head)"
   ]
  }
 ],
 "metadata": {
  "kernelspec": {
   "display_name": "exercise",
   "language": "python",
   "name": "python3"
  },
  "language_info": {
   "codemirror_mode": {
    "name": "ipython",
    "version": 3
   },
   "file_extension": ".py",
   "mimetype": "text/x-python",
   "name": "python",
   "nbconvert_exporter": "python",
   "pygments_lexer": "ipython3",
   "version": "3.11.3"
  },
  "orig_nbformat": 4
 },
 "nbformat": 4,
 "nbformat_minor": 2
}
